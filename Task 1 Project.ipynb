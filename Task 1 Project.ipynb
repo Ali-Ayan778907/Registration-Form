{
 "cells": [
  {
   "cell_type": "code",
   "execution_count": 8,
   "id": "6f3fd314",
   "metadata": {},
   "outputs": [],
   "source": [
    "import tkinter as tk\n",
    "from tkinter import *\n",
    "root = Tk()\n",
    "root.geometry(\"500x300\")\n",
    "\n",
    "def getvals():\n",
    "    print(\"Accepted\")\n",
    "\n",
    "Label(root, text=\"Registration Form\", font=\"arial 15 bold\").grid(row=0,column=3)\n",
    "\n",
    "name= Label(root, text=\"Name\")\n",
    "email= Label(root, text=\"Email\")\n",
    "gender= Label(root, text=\"Gender\")\n",
    "country= Label(root, text=\"Country\")\n",
    "phone= Label(root, text=\"Phone\")\n",
    "\n",
    "name.grid(row=1, column=2)\n",
    "email.grid(row=2, column=2)\n",
    "gender.grid(row=3, column=2)\n",
    "country.grid(row=4, column=2)\n",
    "phone.grid(row=5, column=2)\n",
    "\n",
    "namevalue = StringVar\n",
    "emailvalue = StringVar\n",
    "gendervalue = StringVar\n",
    "countryvalue = StringVar\n",
    "phonevalue = StringVar\n",
    "checkvalue = IntVar\n",
    "\n",
    "nameentry = Entry(root, textvariable =namevalue)\n",
    "emailentry = Entry(root, textvariable =emailvalue)\n",
    "genderentry = Entry(root, textvariable =gendervalue)\n",
    "countryentry = Entry(root, textvariable =countryvalue)\n",
    "phoneentry = Entry(root, textvariable =phonevalue)\n",
    "\n",
    "nameentry.grid(row=1,column=3)\n",
    "emailentry.grid(row=2,column=3)\n",
    "genderentry.grid(row=3,column=3)\n",
    "countryentry.grid(row=4,column=3)\n",
    "phoneentry.grid(row=5,column=3)\n",
    "\n",
    "Button(text=\"Submit\", command=getvals).grid(row=7, column=3)\n",
    "\n",
    "root.mainloop()"
   ]
  },
  {
   "cell_type": "code",
   "execution_count": null,
   "id": "ef852882",
   "metadata": {},
   "outputs": [],
   "source": []
  }
 ],
 "metadata": {
  "kernelspec": {
   "display_name": "Python 3 (ipykernel)",
   "language": "python",
   "name": "python3"
  },
  "language_info": {
   "codemirror_mode": {
    "name": "ipython",
    "version": 3
   },
   "file_extension": ".py",
   "mimetype": "text/x-python",
   "name": "python",
   "nbconvert_exporter": "python",
   "pygments_lexer": "ipython3",
   "version": "3.8.7"
  }
 },
 "nbformat": 4,
 "nbformat_minor": 5
}
